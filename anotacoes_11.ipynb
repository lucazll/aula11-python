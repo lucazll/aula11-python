{
 "cells": [
  {
   "cell_type": "markdown",
   "metadata": {},
   "source": [
    "#ANCHOR - criar usuario do banco:\n",
    "mysql -u root -p\n",
    "create user 'lopes'@'localhost' IDENTIFIED by 'projeto01'\n",
    "\n",
    "\n",
    "#ANCHOR - Dando privilégios:\n",
    "grant all privileges on *.* to 'lopes'@'localhost';\n",
    "\n",
    "\n",
    "#FIXME - create database if not exists projeto-CRUD01 character set utf8mb4 collate utf8mb4_unicode_ci;\n",
    "\n",
    "#FIXME - SENHA do u: projeto01\n",
    "\n",
    "\n",
    "#ANCHOR - criar uma nova tabela:\n",
    "create table usuario(\n",
    "ID int primary key auto_increment,\n",
    "Nome varchar(120) not null,\n",
    "Email varchar(120) unique,\n",
    "Senha varchar(120) unique\n",
    ");\n",
    "\n",
    "\n",
    "#FIXME -\n",
    "show databases; -- código para ver todos os bancos de dados \n",
    "use projeto_CRUD01; -- código para usar o banco de dados\n",
    "show tables; -- código para ver as tabelas \n",
    "desc usuario; -- código para descrever a tabela"
   ]
  }
 ],
 "metadata": {
  "language_info": {
   "name": "python"
  }
 },
 "nbformat": 4,
 "nbformat_minor": 2
}
